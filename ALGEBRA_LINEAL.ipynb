{
  "nbformat": 4,
  "nbformat_minor": 0,
  "metadata": {
    "colab": {
      "provenance": [],
      "authorship_tag": "ABX9TyPPFMt+h2DRVQnM9EOJ+wc8",
      "include_colab_link": true
    },
    "kernelspec": {
      "name": "python3",
      "display_name": "Python 3"
    },
    "language_info": {
      "name": "python"
    }
  },
  "cells": [
    {
      "cell_type": "markdown",
      "metadata": {
        "id": "view-in-github",
        "colab_type": "text"
      },
      "source": [
        "<a href=\"https://colab.research.google.com/github/ErnestoMarin-Comp/Repositorio-de-practicas/blob/practica1/ALGEBRA_LINEAL.ipynb\" target=\"_parent\"><img src=\"https://colab.research.google.com/assets/colab-badge.svg\" alt=\"Open In Colab\"/></a>"
      ]
    },
    {
      "cell_type": "markdown",
      "source": [
        "#TAREA"
      ],
      "metadata": {
        "id": "D_XFKMpbrHXZ"
      }
    },
    {
      "cell_type": "code",
      "source": [
        "#Importamos las librerias necesarias y ejecutamos una prueba basica\n",
        "from nacal import *\n",
        "from IPython.display import display, Math, Latex\n",
        "b = Vector( [0, 4, 6] )\n",
        "print(2*b)\n",
        "Latex(latex(2*b))"
      ],
      "metadata": {
        "colab": {
          "base_uri": "https://localhost:8080/",
          "height": 95
        },
        "id": "8D4T8HLsUeql",
        "outputId": "f268507e-8a76-46e4-ef92-d21474050550"
      },
      "execution_count": 3,
      "outputs": [
        {
          "output_type": "stream",
          "name": "stdout",
          "text": [
            "Vector([0, 8, 12])\n"
          ]
        },
        {
          "output_type": "execute_result",
          "data": {
            "text/plain": [
              "<IPython.core.display.Latex object>"
            ],
            "text/latex": "\\begin{pmatrix}0\\\\ 8\\\\ 12\\end{pmatrix}"
          },
          "metadata": {},
          "execution_count": 3
        }
      ]
    },
    {
      "cell_type": "code",
      "source": [
        "#Este codigo se ejecuta solo si es la primera vez que abres el documento y nunca lo has ejecutado\n",
        "!pip install --target=$nb_path nacal"
      ],
      "metadata": {
        "colab": {
          "base_uri": "https://localhost:8080/"
        },
        "id": "6x1kOLy_T-UG",
        "outputId": "6228da69-6d2f-4e1d-af1f-aaa8f636dd82"
      },
      "execution_count": 2,
      "outputs": [
        {
          "output_type": "stream",
          "name": "stdout",
          "text": [
            "Collecting nacal\n",
            "  Downloading nacal-0.1.30-py3-none-any.whl (33 kB)\n",
            "Requirement already satisfied: sympy>=1.1.0 in /usr/local/lib/python3.10/dist-packages (from nacal) (1.12)\n",
            "Requirement already satisfied: mpmath>=0.19 in /usr/local/lib/python3.10/dist-packages (from sympy>=1.1.0->nacal) (1.3.0)\n",
            "Installing collected packages: nacal\n",
            "Successfully installed nacal-0.1.30\n"
          ]
        }
      ]
    },
    {
      "cell_type": "markdown",
      "source": [
        "##**PREGUNTA 1**\n",
        "¿Es verdad que $$\\begin{pmatrix}1\\\\2\\\\3\\\\\\end{pmatrix}+\\begin{pmatrix}4\\\\5\\\\6\\\\\\end{pmatrix}=\\begin{pmatrix}4\\\\5\\\\6\\\\\\end{pmatrix}+\\begin{pmatrix}1\\\\2\\\\3\\\\\\end{pmatrix}$$\n",
        "\n",
        "¿Es cierto solo para los números del ejemplo? o ¿es una regla general para cualquier par de vectores?# Nueva sección"
      ],
      "metadata": {
        "id": "2BmnDrvrU65e"
      }
    },
    {
      "cell_type": "code",
      "source": [
        "a = Vector( [1, 2, 3] )\n",
        "b = Vector( [4, 5, 6] )\n",
        "b = a + b\n",
        "b"
      ],
      "metadata": {
        "colab": {
          "base_uri": "https://localhost:8080/",
          "height": 46
        },
        "id": "xj0xR14AVyoR",
        "outputId": "e1e97bfc-636e-4e33-ac1d-aa7376bf4c67"
      },
      "execution_count": 6,
      "outputs": [
        {
          "output_type": "execute_result",
          "data": {
            "text/plain": [
              "Vector([5, 7, 9])"
            ],
            "text/html": [
              "<p style=\"text-align:center;\">$\\begin{pmatrix}5\\\\ 7\\\\ 9\\end{pmatrix}$</p>"
            ],
            "image/png": "$\\begin{pmatrix}5\\\\ 7\\\\ 9\\end{pmatrix}$",
            "text/latex": "$\\begin{pmatrix}5\\\\ 7\\\\ 9\\end{pmatrix}$"
          },
          "metadata": {},
          "execution_count": 6
        }
      ]
    },
    {
      "cell_type": "markdown",
      "source": [
        "$\\begin{pmatrix}5\\\\ 7\\\\ 9\\end{pmatrix}$"
      ],
      "metadata": {
        "id": "jrwLUQK4m6D7"
      }
    },
    {
      "cell_type": "markdown",
      "source": [
        "#**Pregunta 2**\n",
        "¿Es verdad que $$\\begin{pmatrix}1\\\\2\\\\\\end{pmatrix}\n",
        "\\begin{pmatrix}\\begin{pmatrix}4\\\\5\\\\\\end{pmatrix}\n",
        "+\n",
        "\\begin{pmatrix}1\\\\0\\\\\\end{pmatrix}\\end{pmatrix}\n",
        "=\n",
        "\\begin{pmatrix}\\begin{pmatrix}1\\\\2\\\\\\end{pmatrix}+\\begin{pmatrix}4\\\\5\\\\\\end{pmatrix}\\end{pmatrix}+\\begin{pmatrix}1\\\\0\\\\\\end{pmatrix}?$$\n",
        "\n",
        "***El parentesis significa que primero hay que hacer la suma dentro del parentesis, y al vector resultante sumarle el vector de fuera.***\n",
        "\n",
        "¿Es cierto solo para los números del ejemplo? o ¿es una regla general para cualquier trio de vectores?"
      ],
      "metadata": {
        "id": "BUG_-BBHV7Ga"
      }
    },
    {
      "cell_type": "code",
      "source": [
        "a=Vector([1,2])\n",
        "b=Vector([4,5])\n",
        "c=Vector([1,0])\n",
        "display(Latex(latex(a+(b+c))))\n",
        "display(Latex(latex((a+b)+c)))"
      ],
      "metadata": {
        "colab": {
          "base_uri": "https://localhost:8080/",
          "height": 98
        },
        "id": "E8smpumbvaDP",
        "outputId": "a361a7c9-9de9-4f3d-b03f-200ab6340c3a"
      },
      "execution_count": 8,
      "outputs": [
        {
          "output_type": "display_data",
          "data": {
            "text/plain": [
              "<IPython.core.display.Latex object>"
            ],
            "text/latex": "\\begin{pmatrix}6\\\\ 7\\end{pmatrix}"
          },
          "metadata": {}
        },
        {
          "output_type": "display_data",
          "data": {
            "text/plain": [
              "<IPython.core.display.Latex object>"
            ],
            "text/latex": "\\begin{pmatrix}6\\\\ 7\\end{pmatrix}"
          },
          "metadata": {}
        }
      ]
    },
    {
      "cell_type": "markdown",
      "source": [
        "Respuesta:\n",
        "Es una regla general para cualquier trio de vectores"
      ],
      "metadata": {
        "id": "SriHWiw7omvn"
      }
    },
    {
      "cell_type": "markdown",
      "source": [
        "#**PREGUNTA 3**\n",
        "¿Es verdad que\n",
        "\n",
        "$$\\begin{pmatrix}\n",
        "4 \\\\5\n",
        " \\\\6\n",
        "\\end{pmatrix}\n",
        "+\n",
        "\\begin{pmatrix}\n",
        " 0\\\\0\n",
        " \\\\0\n",
        "\\end{pmatrix}\n",
        "=\n",
        "\\begin{pmatrix}\n",
        "4 \\\\5\n",
        " \\\\6\n",
        "\\end{pmatrix}?$$\n",
        "¿Es cierto solo para los vectores del ejemplo? o ¿es una regla general para cualquier par de vectores?\n"
      ],
      "metadata": {
        "id": "5IGtW48BpODg"
      }
    },
    {
      "cell_type": "code",
      "source": [
        "a=Vector([4,5,6])\n",
        "b=Vector([7,8,9])\n",
        "c=Vector([0,0,0])\n",
        "display(Latex(latex(a+c)))\n",
        "display(Latex(latex(b+c)))"
      ],
      "metadata": {
        "colab": {
          "base_uri": "https://localhost:8080/",
          "height": 139
        },
        "id": "rCiX2YsCqDti",
        "outputId": "75f68115-81cd-4313-ce41-68f80ad4a31e"
      },
      "execution_count": 7,
      "outputs": [
        {
          "output_type": "display_data",
          "data": {
            "text/plain": [
              "<IPython.core.display.Latex object>"
            ],
            "text/latex": "\\begin{pmatrix}4\\\\ 5\\\\ 6\\end{pmatrix}"
          },
          "metadata": {}
        },
        {
          "output_type": "display_data",
          "data": {
            "text/plain": [
              "<IPython.core.display.Latex object>"
            ],
            "text/latex": "\\begin{pmatrix}7\\\\ 8\\\\ 9\\end{pmatrix}"
          },
          "metadata": {}
        }
      ]
    },
    {
      "cell_type": "markdown",
      "source": [
        "Respuesta:\n",
        "Es cierto para los vectores del ejemplo"
      ],
      "metadata": {
        "id": "2zk_zeQpswTS"
      }
    },
    {
      "cell_type": "markdown",
      "source": [
        "#**PREGUNTA 4**\n",
        "¿Es verdad que\n",
        "\n",
        "$$\\begin{pmatrix}\n",
        "4 \\\\5\n",
        " \\\\6\n",
        "\\end{pmatrix}\n",
        "+\n",
        "\\begin{pmatrix}\n",
        " -4\\\\-5\n",
        " \\\\-6\n",
        "\\end{pmatrix}\n",
        "=\n",
        "\\begin{pmatrix}\n",
        "0 \\\\0\n",
        " \\\\0\n",
        "\\end{pmatrix}=$$\n",
        "¿Es cierto solo para los vectores del ejemplo? o ¿es una regla general para cualquier par de vectores?\n"
      ],
      "metadata": {
        "id": "BT4I1bJCs8F5"
      }
    },
    {
      "cell_type": "code",
      "source": [
        "a=Vector([4,5,6])\n",
        "b=Vector([-4,-5,-6])\n",
        "b = a + b\n",
        "b"
      ],
      "metadata": {
        "colab": {
          "base_uri": "https://localhost:8080/",
          "height": 46
        },
        "id": "oR5XP0CauXUc",
        "outputId": "92e2cb62-92ec-4202-ab12-34a364aca0d5"
      },
      "execution_count": 12,
      "outputs": [
        {
          "output_type": "execute_result",
          "data": {
            "text/plain": [
              "Vector([0, 0, 0])"
            ],
            "text/html": [
              "<p style=\"text-align:center;\">$\\begin{pmatrix}0\\\\ 0\\\\ 0\\end{pmatrix}$</p>"
            ],
            "image/png": "$\\begin{pmatrix}0\\\\ 0\\\\ 0\\end{pmatrix}$",
            "text/latex": "$\\begin{pmatrix}0\\\\ 0\\\\ 0\\end{pmatrix}$"
          },
          "metadata": {},
          "execution_count": 12
        }
      ]
    },
    {
      "cell_type": "markdown",
      "source": [
        "$\\begin{pmatrix}0\\\\ 0\\\\ 0\\end{pmatrix}$"
      ],
      "metadata": {
        "id": "kkXtIr3GxAln"
      }
    },
    {
      "cell_type": "markdown",
      "source": [
        "Respuesta: Esto es cierto para cualquier par de vectores"
      ],
      "metadata": {
        "id": "VN2PqMxLxN0N"
      }
    },
    {
      "cell_type": "markdown",
      "source": [
        "#**PREGUNTA 5**\n",
        "¿Es verdad que\n",
        "$$2\\begin{pmatrix}\\begin{pmatrix}1\\\\-1\\\\\\end{pmatrix}\n",
        "+\n",
        "\\begin{pmatrix}4\\\\5\\\\\\end{pmatrix}\\end{pmatrix}\n",
        "=2\n",
        "\\begin{pmatrix}1\\\\-1\\\\\\end{pmatrix}+2\\begin{pmatrix}4\\\\5\\\\\\end{pmatrix}?$$\n",
        "¿Es una regla general para cualquier par de vectores? ¿Y si cambiamos el escalar 2 por otro número?"
      ],
      "metadata": {
        "id": "ybVhcMmmxcje"
      }
    },
    {
      "cell_type": "code",
      "source": [
        "a=Vector([1,-1])\n",
        "b=Vector([4,5])\n",
        "display(Latex(latex(2*(a+b))))\n",
        "display(Latex(latex((2*a)+(2*b))))\n",
        "display(Latex(latex(3*(a+b))))\n",
        "display(Latex(latex((3*a)+(3*b))))"
      ],
      "metadata": {
        "colab": {
          "base_uri": "https://localhost:8080/",
          "height": 180
        },
        "id": "8ShbjNAlFHKJ",
        "outputId": "0b956016-abc1-43c4-fdd0-ea7d3bedf5de"
      },
      "execution_count": 14,
      "outputs": [
        {
          "output_type": "display_data",
          "data": {
            "text/plain": [
              "<IPython.core.display.Latex object>"
            ],
            "text/latex": "\\begin{pmatrix}10\\\\ 8\\end{pmatrix}"
          },
          "metadata": {}
        },
        {
          "output_type": "display_data",
          "data": {
            "text/plain": [
              "<IPython.core.display.Latex object>"
            ],
            "text/latex": "\\begin{pmatrix}10\\\\ 8\\end{pmatrix}"
          },
          "metadata": {}
        },
        {
          "output_type": "display_data",
          "data": {
            "text/plain": [
              "<IPython.core.display.Latex object>"
            ],
            "text/latex": "\\begin{pmatrix}15\\\\ 12\\end{pmatrix}"
          },
          "metadata": {}
        },
        {
          "output_type": "display_data",
          "data": {
            "text/plain": [
              "<IPython.core.display.Latex object>"
            ],
            "text/latex": "\\begin{pmatrix}15\\\\ 12\\end{pmatrix}"
          },
          "metadata": {}
        }
      ]
    },
    {
      "cell_type": "markdown",
      "source": [
        "Respuesta: Si es una regla para cualquier par de vectores, si se cambia se sigue cumpliendo la condicion"
      ],
      "metadata": {
        "id": "SGKINnxjFMgw"
      }
    },
    {
      "cell_type": "markdown",
      "source": [
        "#**PREGUNTA 6**\n",
        "¿Es verdad que\n",
        "$$(2+3)\n",
        "\\begin{pmatrix}1\\\\2\\\\3\\\\\\end{pmatrix}\n",
        "=2\n",
        "\\begin{pmatrix}1\\\\2\\\\3\\\\\\end{pmatrix}\n",
        "+3\n",
        "\\begin{pmatrix}1\\\\2\\\\3\\\\\\end{pmatrix}$$\n",
        "\n",
        "¿Es una regla general para cualquier par de vectores? ¿y si cambiamos los escalares **2** y **3** por otros números?"
      ],
      "metadata": {
        "id": "TYkYoVj6Fg3e"
      }
    },
    {
      "cell_type": "code",
      "source": [
        "a=Vector([1,2,3])\n",
        "display(Latex(latex((2+3)*a)))\n",
        "display(Latex(latex((2*a)+(3*a))))\n",
        "display(Latex(latex((4+5)*a)))\n",
        "display(Latex(latex((4*a)+(5*a))))"
      ],
      "metadata": {
        "colab": {
          "base_uri": "https://localhost:8080/",
          "height": 261
        },
        "id": "ror8nqbDF-jY",
        "outputId": "b4e8a8e3-fc0b-41b5-eb11-f5e6de567e45"
      },
      "execution_count": 15,
      "outputs": [
        {
          "output_type": "display_data",
          "data": {
            "text/plain": [
              "<IPython.core.display.Latex object>"
            ],
            "text/latex": "\\begin{pmatrix}5\\\\ 10\\\\ 15\\end{pmatrix}"
          },
          "metadata": {}
        },
        {
          "output_type": "display_data",
          "data": {
            "text/plain": [
              "<IPython.core.display.Latex object>"
            ],
            "text/latex": "\\begin{pmatrix}5\\\\ 10\\\\ 15\\end{pmatrix}"
          },
          "metadata": {}
        },
        {
          "output_type": "display_data",
          "data": {
            "text/plain": [
              "<IPython.core.display.Latex object>"
            ],
            "text/latex": "\\begin{pmatrix}9\\\\ 18\\\\ 27\\end{pmatrix}"
          },
          "metadata": {}
        },
        {
          "output_type": "display_data",
          "data": {
            "text/plain": [
              "<IPython.core.display.Latex object>"
            ],
            "text/latex": "\\begin{pmatrix}9\\\\ 18\\\\ 27\\end{pmatrix}"
          },
          "metadata": {}
        }
      ]
    },
    {
      "cell_type": "markdown",
      "source": [
        "Respuesta: Si es una regla general para cualquier par de vectores, si se cambia se sigue manteniendo la regla"
      ],
      "metadata": {
        "id": "zl0EejaHGAWi"
      }
    },
    {
      "cell_type": "markdown",
      "source": [
        "#**PREGUNTA 7**\n",
        "¿Es verdad que\n",
        "$$2(3\n",
        "\\begin{pmatrix}1\\\\2\\\\\\end{pmatrix}\n",
        ")=(2*3)\n",
        "\\begin{pmatrix}1\\\\2\\\\\\end{pmatrix}$$\n",
        "\n",
        "¿Es una regla general para cualquier par de vectores? ¿y si cambiamos los escalares **2** y **3** por otros números?"
      ],
      "metadata": {
        "id": "LmgSoQatGUf_"
      }
    },
    {
      "cell_type": "code",
      "source": [
        "a=Vector([1,2])\n",
        "display(Latex(latex((2*(3*a)))))\n",
        "display(Latex(latex((2*3)*a)))\n",
        "display(Latex(latex((4*(5*a)))))\n",
        "display(Latex(latex((4*5)*a)))"
      ],
      "metadata": {
        "colab": {
          "base_uri": "https://localhost:8080/",
          "height": 180
        },
        "id": "ErACIxqWGkNC",
        "outputId": "b57b70cf-7606-45cb-b1bd-36c74a4b3c14"
      },
      "execution_count": 16,
      "outputs": [
        {
          "output_type": "display_data",
          "data": {
            "text/plain": [
              "<IPython.core.display.Latex object>"
            ],
            "text/latex": "\\begin{pmatrix}6\\\\ 12\\end{pmatrix}"
          },
          "metadata": {}
        },
        {
          "output_type": "display_data",
          "data": {
            "text/plain": [
              "<IPython.core.display.Latex object>"
            ],
            "text/latex": "\\begin{pmatrix}6\\\\ 12\\end{pmatrix}"
          },
          "metadata": {}
        },
        {
          "output_type": "display_data",
          "data": {
            "text/plain": [
              "<IPython.core.display.Latex object>"
            ],
            "text/latex": "\\begin{pmatrix}20\\\\ 40\\end{pmatrix}"
          },
          "metadata": {}
        },
        {
          "output_type": "display_data",
          "data": {
            "text/plain": [
              "<IPython.core.display.Latex object>"
            ],
            "text/latex": "\\begin{pmatrix}20\\\\ 40\\end{pmatrix}"
          },
          "metadata": {}
        }
      ]
    },
    {
      "cell_type": "markdown",
      "source": [
        "Respuesta: Es una regla generar para cualquier par de vectores, si se cambia se sigue manteniendo la regla"
      ],
      "metadata": {
        "id": "-wC7x8xzGn_H"
      }
    },
    {
      "cell_type": "markdown",
      "source": [
        "#**PREGUNTA 7**\n",
        "¿Es verdad que si\n",
        "*a = 1* $$a\\begin{pmatrix}1\\\\2\\\\3\\\\\\end{pmatrix}=\\begin{pmatrix}1\\\\2\\\\3\\\\\\end{pmatrix}$$\n",
        "¿Es cierto solo para el escalar *a = 1*?"
      ],
      "metadata": {
        "id": "8WLoiIJ2G3yG"
      }
    },
    {
      "cell_type": "code",
      "source": [
        "a=Vector([1,2,3])\n",
        "display(Latex(latex(1*a)))"
      ],
      "metadata": {
        "colab": {
          "base_uri": "https://localhost:8080/",
          "height": 78
        },
        "id": "sO2uXCyUHVwz",
        "outputId": "cbcefe36-81fc-4e17-988e-20f9754a2b8f"
      },
      "execution_count": 17,
      "outputs": [
        {
          "output_type": "display_data",
          "data": {
            "text/plain": [
              "<IPython.core.display.Latex object>"
            ],
            "text/latex": "\\begin{pmatrix}1\\\\ 2\\\\ 3\\end{pmatrix}"
          },
          "metadata": {}
        }
      ]
    },
    {
      "cell_type": "markdown",
      "source": [
        "Respuesta: Es para el escalar *a = 1* porque si se cambia nos dara otro resultado"
      ],
      "metadata": {
        "id": "YNpsvg_nHXDW"
      }
    }
  ]
}